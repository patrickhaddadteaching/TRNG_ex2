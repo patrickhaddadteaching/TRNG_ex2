{
 "cells": [
  {
   "cell_type": "code",
   "execution_count": 1,
   "metadata": {},
   "outputs": [],
   "source": [
    "from ipywidgets import widgets\n",
    "import numpy as np\n",
    "from time import time, sleep\n",
    "from os import system\n",
    "from h5py import File as h5py_File\n",
    "import matplotlib.pyplot as plt\n",
    "from notebook.notebookapp import list_running_servers"
   ]
  },
  {
   "cell_type": "code",
   "execution_count": 4,
   "metadata": {},
   "outputs": [],
   "source": [
    "width_png=547\n",
    "height_png=400"
   ]
  },
  {
   "cell_type": "code",
   "execution_count": 5,
   "metadata": {},
   "outputs": [],
   "source": [
    "image_height=250\n",
    "image_width=int(width_png*image_height/height_png)\n",
    "raw_bytes_width=100\n",
    "tests_results_width=300\n",
    "tmp_image_name='tmp_ex2.svg'"
   ]
  },
  {
   "cell_type": "code",
   "execution_count": null,
   "metadata": {},
   "outputs": [],
   "source": [
    "s_data_file_name='data_for_ex2'"
   ]
  },
  {
   "cell_type": "code",
   "execution_count": null,
   "metadata": {},
   "outputs": [],
   "source": [
    "fid_host_url=open('host_url.txt','r')\n",
    "v_lines_host_url=fid_host_url.readlines()\n",
    "fid_host_url.close()\n",
    "s_line_host_url=v_lines_host_url[0]\n",
    "if s_line_host_url[-1]=='\\n':\n",
    "    s_host_url=s_line_host_url[:-1]\n",
    "else:\n",
    "    s_host_url=s_line_host_url[:]"
   ]
  },
  {
   "cell_type": "code",
   "execution_count": null,
   "metadata": {},
   "outputs": [],
   "source": [
    "a=system('unzip data/%s.zip -d . >> test.log'%s_data_file_name)"
   ]
  },
  {
   "cell_type": "code",
   "execution_count": null,
   "metadata": {},
   "outputs": [],
   "source": [
    "servers = list(list_running_servers())\n",
    "s_base_url=servers[0]['base_url']"
   ]
  },
  {
   "cell_type": "code",
   "execution_count": 3,
   "metadata": {},
   "outputs": [],
   "source": [
    "hdf5_file = '%s.h5'%s_data_file_name\n",
    "data_file = h5py_File(hdf5_file,'r')\n",
    "v_ratio_period_sample_for_interact=np.array(data_file['parameters/v_ratio_period_sample'][0,:],dtype=np.uint32)\n",
    "v_jitter_for_interact=data_file['parameters/v_jitter'][0,:]\n",
    "v_raw_rng_image=data_file['images/rng_image'][0,:]\n",
    "m_raw_bits_from_one_RO=data_file['raw_bits/m_raw_bits_from_one_RO'][:]\n",
    "data_file.close()\n",
    "system('rm -Rf %s'%hdf5_file)\n",
    "nb_test_per_corner=m_raw_bits_from_one_RO.shape[3]\n",
    "nb_bits=m_raw_bits_from_one_RO.shape[4]\n",
    "nb_osc=m_raw_bits_from_one_RO.shape[0]"
   ]
  },
  {
   "cell_type": "code",
   "execution_count": 6,
   "metadata": {},
   "outputs": [],
   "source": [
    "v_x=np.array([ 0,  1,  2,  4,  8,  3,  5,  6,  9, 10, 12,  7, 11, 13, 14, 15], dtype=np.uint8)\n",
    "v_s_x=['0000', '0001', '0010', '0100', '1000', '0011', '0101', '0110', '1001', '1010', '1100', '0111', '1011', '1101', '1110', '1111']\n",
    "\n",
    "def generate_test_image(v_nibble):\n",
    "    \n",
    "    v_hist=np.zeros((16,),dtype=np.uint32)\n",
    "    for i in range(16):\n",
    "        v_hist[i]=((v_nibble==v_x[i]).sum())\n",
    "        \n",
    "    nb_tau=100\n",
    "    nb_words_to_be_used=v_nibble.shape[0]-nb_tau\n",
    "    v_T5=np.zeros((nb_tau,),dtype=np.float64)\n",
    "    for tau in range(nb_tau):\n",
    "        v_T5[tau]=(((v_nibble[:nb_words_to_be_used])^(v_nibble[tau+1:tau+nb_words_to_be_used+1])).mean())-7.5\n",
    "    \n",
    "    fig, ax = plt.subplots(2, 1)\n",
    "    ax[0].bar(np.arange(16),v_hist)\n",
    "    ax[0].set_title('4-bits words distribution')\n",
    "    ax[0].set_xlabel('4-bits word value')\n",
    "    ax[0].set_xticks(np.arange(16))\n",
    "    ax[0].set_xticklabels(v_s_x,rotation='vertical')\n",
    "    \n",
    "    ax[0].plot(np.arange(17)-0.5,np.ones(17)*370,'r')\n",
    "    ax[0].plot(np.arange(17)-0.5,np.ones(17)*254,'r')\n",
    "    \n",
    "    \n",
    "    ax[1].plot(v_T5)\n",
    "    ax[1].set_xlabel('Lag')\n",
    "    ax[1].set_title('4-bits words Autocorrelation')\n",
    "    ax[1].plot(np.arange(nb_tau),np.ones(nb_tau)*0.23,'r')\n",
    "    ax[1].plot(np.arange(nb_tau),np.ones(nb_tau)*(-0.23),'r')\n",
    "        \n",
    "    fig.tight_layout(pad=0, h_pad=2.0, w_pad=None)\n",
    "                   \n",
    "    plt.savefig(tmp_image_name,pad_inches=0)\n",
    "    plt.close(fig)\n",
    "    fid_image_hist=open(tmp_image_name,'rb')\n",
    "    v_raw_image_hist=fid_image_hist.read()\n",
    "    fid_image_hist.close()\n",
    "    return v_raw_image_hist"
   ]
  },
  {
   "cell_type": "code",
   "execution_count": 7,
   "metadata": {},
   "outputs": [
    {
     "name": "stderr",
     "output_type": "stream",
     "text": [
      "Widget Javascript not detected.  It may not be installed or enabled properly.\n"
     ]
    },
    {
     "data": {
      "application/vnd.jupyter.widget-view+json": {
       "model_id": "37b5f4dceda74018b7fc30de7879a54c"
      }
     },
     "metadata": {},
     "output_type": "display_data"
    }
   ],
   "source": [
    "v_raw_image_hist=generate_test_image(np.zeros((nb_bits,),dtype=np.uint8))\n",
    "\n",
    "sample_period_value_widgets=widgets.SelectionSlider(description=r'\\(D\\)',options=list(v_ratio_period_sample_for_interact),layout=widgets.Layout(width='%dpx'%(image_height+raw_bytes_width)),readout_format='.1f')\n",
    "m_value_widgets=widgets.SelectionSlider(description=r'\\(m\\)',options=list(np.arange(nb_osc,dtype=np.uint8)+1),layout=widgets.Layout(width='%dpx'%(image_height+raw_bytes_width)))\n",
    "std_dev_value_widgets=widgets.SelectionSlider(description=r'\\(\\frac{\\sigma_{tot}}{T_{1}}\\)',options=list(v_jitter_for_interact),layout=widgets.Layout(width='%dpx'%(image_height+raw_bytes_width)))\n",
    "\n",
    "rng_image=widgets.Image(value=v_raw_rng_image.tobytes(), format='png',layout=widgets.Layout(height='%dpx'%(image_height),width='%dpx'%image_width))\n",
    "hist_image=widgets.Image(value=v_raw_image_hist, format='svg+xml',layout=widgets.Layout(height='%dpx'%(image_height),width='auto'))\n",
    "raw_bytes=widgets.Textarea(value='',rows=5000,placeholder='',description='',disabled=True,layout=widgets.Layout(height='%dpx'%(image_height),width='%dpx'%(image_width/4)))\n",
    "\n",
    "float_bar=widgets.FloatProgress(value=0.0,min=0.0, max=100.0,description='',bar_style='info',style={'bar_color': '#ff0000'},orientation='horizontal',layout=widgets.Layout(width='%dpx'%tests_results_width))\n",
    "val_button=widgets.Button(description = 'GENERATE RANDOM VALUES',layout=widgets.Layout(width='%dpx'%tests_results_width))\n",
    "val_button.style.button_color = 'gray'\n",
    "html_download=widgets.HTML(value='',layout=widgets.Layout(width='%dpx'%tests_results_width))\n",
    "\n",
    "def generate_rnd(b):\n",
    "    raw_bytes.value=''\n",
    "    chosen_sample_period=sample_period_value_widgets.value\n",
    "    chosen_jitter=std_dev_value_widgets.value\n",
    "    chosen_m=m_value_widgets.value    \n",
    "    \n",
    "    index_sample_period=np.where(chosen_sample_period==v_ratio_period_sample_for_interact)[0][0]\n",
    "    index_chosen_jitter=np.where(chosen_jitter==v_jitter_for_interact)[0][0]\n",
    "\n",
    "    v_raw_bits=np.zeros((nb_bits,),dtype=np.bool)\n",
    "    for i in range(chosen_m):\n",
    "        tmp_rand=np.random.randint(0,nb_test_per_corner,dtype=np.uint32)\n",
    "        v_raw_bits^=m_raw_bits_from_one_RO[i-1,index_chosen_jitter,index_sample_period,tmp_rand,:]\n",
    "        \n",
    "    nb_nibble=int((nb_bits)/4)\n",
    "    v_nibble=np.zeros((nb_nibble,),dtype=np.uint8)\n",
    "    for i in range(4):\n",
    "        v_nibble+=np.array(v_raw_bits[i:4*nb_nibble:4],dtype=np.uint8)*(2**i)\n",
    "    html_download.value=''\n",
    "    s_line=''\n",
    "    for i in range(nb_nibble):\n",
    "        s_line='%s%X'%(s_line,v_nibble[i])\n",
    "    raw_bytes.value=s_line   \n",
    "    \n",
    "    randomvalues_file_name='randomvalues.txt'\n",
    "    fid_rnd_file=open(randomvalues_file_name,'w')\n",
    "    fid_rnd_file.write(s_line)\n",
    "    fid_rnd_file.close()\n",
    "    path_to_download='%s%sfiles/%s'%(s_host_url,s_base_url,randomvalues_file_name)\n",
    "    s_line_for_download='<p><a href=\"%s\" target=\"_blank\" rel=\"noopener noreferrer\">  Click here to download the random values</a></p>'%(path_to_download)\n",
    "    hist_image.value=generate_test_image(v_nibble)\n",
    "    \n",
    "    float_bar.value=0\n",
    "    time_to_sleep=0.01\n",
    "    for i in range(100):\n",
    "        sleep(time_to_sleep)\n",
    "        float_bar.value=(i+1)\n",
    "    html_download.value=s_line_for_download\n",
    "val_button.on_click(generate_rnd, remove=False) \n",
    "v_box_top=widgets.VBox([widgets.HBox([rng_image,raw_bytes,hist_image]),widgets.VBox([widgets.HBox([widgets.VBox([m_value_widgets,std_dev_value_widgets,sample_period_value_widgets]),widgets.VBox([val_button,float_bar,html_download])])])])\n",
    "display(v_box_top)"
   ]
  }
 ],
 "metadata": {
  "kernelspec": {
   "display_name": "Python 3",
   "language": "python",
   "name": "python3"
  },
  "language_info": {
   "codemirror_mode": {
    "name": "ipython",
    "version": 3
   },
   "file_extension": ".py",
   "mimetype": "text/x-python",
   "name": "python",
   "nbconvert_exporter": "python",
   "pygments_lexer": "ipython3",
   "version": "3.6.9"
  }
 },
 "nbformat": 4,
 "nbformat_minor": 2
}
