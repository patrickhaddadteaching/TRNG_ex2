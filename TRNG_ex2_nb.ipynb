{
 "cells": [
  {
   "cell_type": "code",
   "execution_count": 1,
   "metadata": {},
   "outputs": [],
   "source": [
    "from ipywidgets import interact, interact_manual, widgets, Label\n",
    "import numpy as np\n",
    "import functools\n",
    "from time import time, sleep\n",
    "from os import system\n",
    "import h5py\n",
    "import matplotlib.pyplot as plt"
   ]
  },
  {
   "cell_type": "code",
   "execution_count": 2,
   "metadata": {},
   "outputs": [
    {
     "data": {
      "text/plain": [
       "0"
      ]
     },
     "execution_count": 2,
     "metadata": {},
     "output_type": "execute_result"
    }
   ],
   "source": [
    "s_url='https://github.com/patrickhaddadteaching/TRNG_ex2/raw/main/data/data_for_ex2.zip'\n",
    "a=system('wget %s>test.log'%s_url)\n",
    "#a=system('cp zips/data_for_ex2.zip .>test.log')\n",
    "a=system('unzip data_for_ex2.zip>test.log')\n",
    "system('rm -Rf data_for_ex2.zip')"
   ]
  },
  {
   "cell_type": "code",
   "execution_count": 3,
   "metadata": {},
   "outputs": [],
   "source": [
    "hdf5_file = 'data_for_ex2.h5'\n",
    "data_file = h5py.File(hdf5_file,'r')\n",
    "v_ratio_period_sample_for_interact=data_file['parameters/v_ratio_period_sample'][0,:]\n",
    "v_jitter_for_interact=data_file['parameters/v_jitter'][0,:]\n",
    "v_raw_rng_image=data_file['images/rng_image'][0,:]\n",
    "m_raw_bits_from_one_RO=data_file['raw_bits/m_raw_bits_from_one_RO'][:]\n",
    "data_file.close()\n",
    "system('rm -Rf %s'%hdf5_file)\n",
    "nb_test_per_corner=m_raw_bits_from_one_RO.shape[3]\n",
    "nb_bits=m_raw_bits_from_one_RO.shape[4]\n",
    "nb_osc=m_raw_bits_from_one_RO.shape[0]"
   ]
  },
  {
   "cell_type": "code",
   "execution_count": 4,
   "metadata": {},
   "outputs": [],
   "source": [
    "width_png=547\n",
    "height_png=400"
   ]
  },
  {
   "cell_type": "code",
   "execution_count": 5,
   "metadata": {},
   "outputs": [],
   "source": [
    "image_height=250\n",
    "image_width=int(width_png*image_height/height_png)\n",
    "raw_bytes_width=100\n",
    "tests_results_width=300\n",
    "tmp_image_name='tmp_ex2.svg'"
   ]
  },
  {
   "cell_type": "code",
   "execution_count": 15,
   "metadata": {},
   "outputs": [],
   "source": [
    "def generate_test_image(v_nibble):\n",
    "    \n",
    "    v_hist=np.zeros((16,),dtype=np.uint32)\n",
    "    for i in range(16):\n",
    "        v_hist[i]=((v_nibble==i).sum())\n",
    "        \n",
    "    nb_tau=100\n",
    "    nb_words_to_be_used=v_nibble.shape[0]-nb_tau\n",
    "    v_T5=np.zeros((nb_tau,),dtype=np.float64)\n",
    "    for tau in range(nb_tau):\n",
    "        v_T5[tau]=(v_nibble[:nb_words_to_be_used]^v_nibble[tau+1:tau+nb_words_to_be_used+1]).mean()\n",
    "        \n",
    "    fig=plt.figure(1,figsize=[5.0,5.0])\n",
    "    \n",
    "    plt.subplot(1,2,1)\n",
    "    plt.title('4-bits words\\ndistribution')\n",
    "    plt.xlabel('4-bits word value')\n",
    "    plt.bar(np.arange(16),v_hist)\n",
    "    plt.plot(np.arange(16),np.ones(16)*((v_nibble.shape[0])/16),'r')\n",
    "    plt.xticks(np.arange(16), ['0','1','2','3','4','5','6','7','8','9','A','B','C','D','E','F'])\n",
    "    plt.subplot(1,2,2)\n",
    "    plt.plot(v_T5)\n",
    "    nb_ticks=int(v_T5.max()-v_T5.min())+2\n",
    "    v_ytick=int(v_T5.min())+np.arange(nb_ticks,dtype=np.uint32)\n",
    "    plt.yticks(v_ytick)\n",
    "    plt.ylim([v_ytick[0],v_ytick[-1]+1])\n",
    "    plt.xlabel('Lag')\n",
    "    plt.title('4-bits words\\nAutocorrelation')\n",
    "    plt.plot(np.arange(nb_tau),np.ones(nb_tau)*(7.5),'r')\n",
    "    plt.savefig(tmp_image_name,pad_inches=0)\n",
    "    plt.close(fig)\n",
    "    fid_image_hist=open(tmp_image_name,'rb')\n",
    "    v_raw_image_hist=fid_image_hist.read()\n",
    "    fid_image_hist.close()\n",
    "    return v_raw_image_hist"
   ]
  },
  {
   "cell_type": "code",
   "execution_count": 16,
   "metadata": {},
   "outputs": [
    {
     "data": {
      "application/vnd.jupyter.widget-view+json": {
       "model_id": "cb2145bf7f9941dc9a8a2da4c3b28d5f"
      }
     },
     "metadata": {},
     "output_type": "display_data"
    }
   ],
   "source": [
    "v_raw_image_hist=generate_test_image(np.random.randint(0,16,5000))\n",
    "\n",
    "sample_period_value_widgets=widgets.SelectionSlider(description=r'\\(\\frac{\\Delta t}{T_{1}}\\)',options=list(v_ratio_period_sample_for_interact),layout=widgets.Layout(width='%dpx'%(image_height+raw_bytes_width)),readout_format='.1f')\n",
    "m_value_widgets=widgets.SelectionSlider(description=r'\\(m\\)',options=list(np.arange(nb_osc,dtype=np.uint8)+1),layout=widgets.Layout(width='%dpx'%(image_height+raw_bytes_width)))\n",
    "std_dev_value_widgets=widgets.SelectionSlider(description=r'\\(\\frac{\\sigma_{tot}}{T_{1}}\\)',options=list(v_jitter_for_interact),layout=widgets.Layout(width='%dpx'%(image_height+raw_bytes_width)))\n",
    "\n",
    "rng_image=widgets.Image(value=v_raw_rng_image.tobytes(), format='png',layout=widgets.Layout(height='%dpx'%(image_height),width='%dpx'%image_width))\n",
    "hist_image=widgets.Image(value=v_raw_image_hist, format='svg+xml',layout=widgets.Layout(height='%dpx'%(image_height),width='auto'))\n",
    "raw_bytes=widgets.Textarea(value='',rows=5000,placeholder='',description='',disabled=True,layout=widgets.Layout(height='%dpx'%(image_height),width='%dpx'%(image_width/4)))\n",
    "\n",
    "float_bar=widgets.FloatProgress(value=0.0,min=0.0, max=100.0,description='',bar_style='info',style={'bar_color': '#ff0000'},orientation='horizontal',layout=widgets.Layout(width='%dpx'%tests_results_width))\n",
    "val_button=widgets.Button(description = 'GENERATE RANDOM VALUES',layout=widgets.Layout(width='%dpx'%tests_results_width))\n",
    "val_button.style.button_color = 'gray'\n",
    "\n",
    "\n",
    "def generate_rnd(b):\n",
    "    raw_bytes.value=''\n",
    "    chosen_sample_period=sample_period_value_widgets.value\n",
    "    chosen_jitter=std_dev_value_widgets.value\n",
    "    chosen_m=m_value_widgets.value    \n",
    "    \n",
    "    index_sample_period=np.where(chosen_sample_period==v_ratio_period_sample_for_interact)[0][0]\n",
    "    index_chosen_jitter=np.where(chosen_jitter==v_jitter_for_interact)[0][0]\n",
    "\n",
    "    v_raw_bits=np.zeros((nb_bits,),dtype=np.bool)\n",
    "    for i in range(chosen_m):\n",
    "        tmp_rand=np.random.randint(0,nb_test_per_corner,dtype=np.uint32)\n",
    "        v_raw_bits^=m_raw_bits_from_one_RO[i-1,index_chosen_jitter,index_sample_period,tmp_rand,:]\n",
    "        \n",
    "    nb_nibble=int((nb_bits)/4)\n",
    "    v_nibble=np.zeros((nb_nibble,),dtype=np.uint8)\n",
    "    for i in range(4):\n",
    "        v_nibble+=np.array(v_raw_bits[i:4*nb_nibble:4],dtype=np.uint8)*(2**i)\n",
    "    s_line=''\n",
    "    for i in range(nb_nibble):\n",
    "        s_line='%s%X'%(s_line,v_nibble[i])\n",
    "    raw_bytes.value=s_line   \n",
    "    \n",
    "\n",
    "    hist_image.value=generate_test_image(v_nibble)\n",
    "    \n",
    "    float_bar.value=0\n",
    "    time_to_sleep=0.01\n",
    "    for i in range(100):\n",
    "        sleep(time_to_sleep)\n",
    "        float_bar.value=(i+1)      \n",
    "val_button.on_click(generate_rnd, remove=False) \n",
    "v_box_top=widgets.VBox([widgets.HBox([rng_image,raw_bytes,hist_image]),widgets.VBox([widgets.HBox([widgets.VBox([m_value_widgets,std_dev_value_widgets,sample_period_value_widgets]),widgets.VBox([val_button,float_bar])])])])\n",
    "display(v_box_top)"
   ]
  },
  {
   "cell_type": "code",
   "execution_count": null,
   "metadata": {},
   "outputs": [],
   "source": []
  }
 ],
 "metadata": {
  "kernelspec": {
   "display_name": "Python 3",
   "language": "python",
   "name": "python3"
  },
  "language_info": {
   "codemirror_mode": {
    "name": "ipython",
    "version": 3
   },
   "file_extension": ".py",
   "mimetype": "text/x-python",
   "name": "python",
   "nbconvert_exporter": "python",
   "pygments_lexer": "ipython3",
   "version": "3.6.9"
  }
 },
 "nbformat": 4,
 "nbformat_minor": 2
}
